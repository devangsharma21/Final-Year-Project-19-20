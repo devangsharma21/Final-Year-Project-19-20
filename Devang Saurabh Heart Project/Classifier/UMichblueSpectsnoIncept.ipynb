{
 "cells": [
  {
   "cell_type": "code",
   "execution_count": 3,
   "metadata": {},
   "outputs": [],
   "source": [
    "import numpy as np\n",
    "import pandas as pd\n",
    "from keras.utils import to_categorical\n",
    "from sklearn.model_selection import train_test_split\n",
    "import seaborn as sns\n",
    "from subprocess import check_output\n",
    "import keras\n",
    "from keras.models import Sequential\n",
    "from keras.layers import Dense, Dropout, Flatten\n",
    "from keras.layers import Conv2D, MaxPooling2D\n",
    "from keras.layers.normalization import BatchNormalization\n",
    "from keras.callbacks import ModelCheckpoint\n",
    "from sklearn.metrics import confusion_matrix\n",
    "import matplotlib.pyplot as plt\n",
    "%matplotlib inline\n",
    "\n",
    "data_train = pd.read_csv('/floyd/input/image/fashion-mnist_train.csv')\n",
    "data_test = pd.read_csv('/floyd/input/image/fashion-mnist_test.csv')\n"
   ]
  },
  {
   "cell_type": "code",
   "execution_count": 6,
   "metadata": {},
   "outputs": [],
   "source": [
    "# image dimensions\n",
    "img_rows, img_cols = 28, 28\n",
    "input_shape = (img_rows, img_cols, 1)\n",
    "\n",
    "# Split the target labels and the featured data\n",
    "X = np.array(data_train.iloc[:, 1:])\n",
    "y = to_categorical(np.array(data_train.iloc[:, 0]))\n",
    "\n",
    "# Split the data into training and validation sets\n",
    "X_train, X_val, y_train, y_val = train_test_split(X, y, test_size=0.2, random_state=13)\n",
    "\n",
    "# Split the targets and features in the test\n",
    "X_test = np.array(data_test.iloc[:, 1:])\n",
    "y_test = to_categorical(np.array(data_test.iloc[:, 0]))\n",
    "\n",
    "# reshape the data and convert to floats\n",
    "X_train = X_train.reshape(X_train.shape[0], img_rows, img_cols, 1).astype('float32')\n",
    "X_test = X_test.reshape(X_test.shape[0], img_rows, img_cols, 1).astype('float32')\n",
    "X_val = X_val.reshape(X_val.shape[0], img_rows, img_cols, 1).astype('float32')\n",
    "\n",
    "# normalize the data\n",
    "X_train /=255\n",
    "X_test /=255\n",
    "X_val /=255"
   ]
  },
  {
   "cell_type": "code",
   "execution_count": 7,
   "metadata": {},
   "outputs": [],
   "source": [
    "# hyperparameters\n",
    "batch_size = 256\n",
    "num_classes = 10\n",
    "epochs = 10"
   ]
  },
  {
   "cell_type": "code",
   "execution_count": 9,
   "metadata": {},
   "outputs": [
    {
     "name": "stdout",
     "output_type": "stream",
     "text": [
      "_________________________________________________________________\n",
      "Layer (type)                 Output Shape              Param #   \n",
      "=================================================================\n",
      "conv2d_4 (Conv2D)            (None, 27, 27, 16)        80        \n",
      "_________________________________________________________________\n",
      "max_pooling2d_3 (MaxPooling2 (None, 13, 13, 16)        0         \n",
      "_________________________________________________________________\n",
      "conv2d_5 (Conv2D)            (None, 13, 13, 32)        2080      \n",
      "_________________________________________________________________\n",
      "max_pooling2d_4 (MaxPooling2 (None, 6, 6, 32)          0         \n",
      "_________________________________________________________________\n",
      "conv2d_6 (Conv2D)            (None, 6, 6, 64)          8256      \n",
      "_________________________________________________________________\n",
      "dropout_3 (Dropout)          (None, 6, 6, 64)          0         \n",
      "_________________________________________________________________\n",
      "flatten_2 (Flatten)          (None, 2304)              0         \n",
      "_________________________________________________________________\n",
      "dense_2 (Dense)              (None, 512)               1180160   \n",
      "_________________________________________________________________\n",
      "dropout_4 (Dropout)          (None, 512)               0         \n",
      "_________________________________________________________________\n",
      "dense_3 (Dense)              (None, 10)                5130      \n",
      "=================================================================\n",
      "Total params: 1,195,706\n",
      "Trainable params: 1,195,706\n",
      "Non-trainable params: 0\n",
      "_________________________________________________________________\n"
     ]
    }
   ],
   "source": [
    "model = Sequential()\n",
    "model.add(Conv2D(filters=16, kernel_size=2, activation='relu', kernel_initializer='he_normal', input_shape=input_shape))\n",
    "model.add(MaxPooling2D(pool_size=(2, 2)))\n",
    "model.add(Conv2D(filters=32, kernel_size=2, padding='same', activation='relu'))\n",
    "model.add(MaxPooling2D(pool_size=(2, 2)))\n",
    "model.add(Conv2D(filters=64, kernel_size=2, padding='same', activation='relu'))\n",
    "model.add(Dropout(0.4))\n",
    "model.add(Flatten())\n",
    "model.add(Dense(512, activation='relu'))\n",
    "model.add(Dropout(0.3))\n",
    "model.add(Dense(num_classes, activation='softmax'))\n",
    "\n",
    "model.compile(loss=keras.losses.categorical_crossentropy, optimizer=keras.optimizers.Adam(), metrics=['accuracy'])\n",
    "model.summary()"
   ]
  },
  {
   "cell_type": "code",
   "execution_count": 10,
   "metadata": {},
   "outputs": [
    {
     "name": "stdout",
     "output_type": "stream",
     "text": [
      "Train on 48000 samples, validate on 12000 samples\n",
      "Epoch 1/10\n",
      "48000/48000 [==============================] - 39s 814us/step - loss: 0.5948 - acc: 0.7835 - val_loss: 0.3984 - val_acc: 0.8538\n",
      "Epoch 2/10\n",
      "48000/48000 [==============================] - 36s 750us/step - loss: 0.3853 - acc: 0.8606 - val_loss: 0.3287 - val_acc: 0.8832\n",
      "Epoch 3/10\n",
      "48000/48000 [==============================] - 36s 748us/step - loss: 0.3347 - acc: 0.8782 - val_loss: 0.3070 - val_acc: 0.8899\n",
      "Epoch 4/10\n",
      "48000/48000 [==============================] - 36s 743us/step - loss: 0.3032 - acc: 0.8886 - val_loss: 0.2949 - val_acc: 0.8929\n",
      "Epoch 5/10\n",
      "48000/48000 [==============================] - 36s 744us/step - loss: 0.2839 - acc: 0.8946 - val_loss: 0.2718 - val_acc: 0.9024\n",
      "Epoch 6/10\n",
      "48000/48000 [==============================] - 36s 747us/step - loss: 0.2675 - acc: 0.9019 - val_loss: 0.2623 - val_acc: 0.9048\n",
      "Epoch 7/10\n",
      "48000/48000 [==============================] - 36s 748us/step - loss: 0.2555 - acc: 0.9056 - val_loss: 0.2597 - val_acc: 0.9057\n",
      "Epoch 8/10\n",
      "48000/48000 [==============================] - 36s 743us/step - loss: 0.2395 - acc: 0.9111 - val_loss: 0.2585 - val_acc: 0.9048\n",
      "Epoch 9/10\n",
      "48000/48000 [==============================] - 36s 747us/step - loss: 0.2274 - acc: 0.9159 - val_loss: 0.2415 - val_acc: 0.9136\n",
      "Epoch 10/10\n",
      "48000/48000 [==============================] - 36s 755us/step - loss: 0.2183 - acc: 0.9182 - val_loss: 0.2375 - val_acc: 0.9144\n"
     ]
    }
   ],
   "source": [
    "# Compilation and Training\n",
    "history = model.fit(X_train, y_train, batch_size=batch_size, epochs=epochs, verbose=1, validation_data=(X_val, y_val))\n",
    "score = model.evaluate(X_test, y_test, verbose=0)"
   ]
  },
  {
   "cell_type": "code",
   "execution_count": 12,
   "metadata": {},
   "outputs": [
    {
     "name": "stdout",
     "output_type": "stream",
     "text": [
      "Accuracy:  91.8 %\n"
     ]
    }
   ],
   "source": [
    "# Testing the Model\n",
    "prediction_list = model.predict_classes(X_test)\n",
    "\n",
    "y_test = data_test.iloc[:, 0]\n",
    "correct = np.nonzero(prediction_list==y_test)[0]\n",
    "\n",
    "print(\"Accuracy: \", ((len(correct)/len(y_test))*100), '%')"
   ]
  },
  {
   "cell_type": "code",
   "execution_count": null,
   "metadata": {},
   "outputs": [],
   "source": []
  }
 ],
 "metadata": {
  "kernelspec": {
   "display_name": "Python 3",
   "language": "python",
   "name": "python3"
  },
  "language_info": {
   "codemirror_mode": {
    "name": "ipython",
    "version": 3
   },
   "file_extension": ".py",
   "mimetype": "text/x-python",
   "name": "python",
   "nbconvert_exporter": "python",
   "pygments_lexer": "ipython3",
   "version": "3.6.5"
  }
 },
 "nbformat": 4,
 "nbformat_minor": 2
}
