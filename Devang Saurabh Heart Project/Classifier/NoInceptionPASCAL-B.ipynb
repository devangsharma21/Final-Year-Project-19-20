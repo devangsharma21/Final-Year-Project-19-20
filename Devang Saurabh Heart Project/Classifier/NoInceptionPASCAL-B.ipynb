{
 "cells": [
  {
   "cell_type": "code",
   "execution_count": 7,
   "metadata": {},
   "outputs": [],
   "source": [
    "tc = {0:'Murmur', 1: 'Normal'}"
   ]
  },
  {
   "cell_type": "code",
   "execution_count": 8,
   "metadata": {},
   "outputs": [],
   "source": [
    "from keras.models import Sequential\n",
    "from keras.layers import Dense, Conv2D, MaxPooling2D, Dropout, Flatten"
   ]
  },
  {
   "cell_type": "code",
   "execution_count": 9,
   "metadata": {},
   "outputs": [],
   "source": [
    "model = Sequential()\n",
    "    \n",
    "model.add(Conv2D(32, (3, 3), padding='same', activation='relu', input_shape= (64, 64, 3)))\n",
    "    \n",
    "model.add(MaxPooling2D(pool_size=(2, 2)))\n",
    "    \n",
    "model.add(Conv2D(64, (3, 3), activation='relu'))\n",
    "model.add(MaxPooling2D(pool_size=(2, 2)))\n",
    "   \n",
    "model.add(Conv2D(64, (3, 3), activation='relu'))\n",
    "model.add(MaxPooling2D(pool_size=(2, 2)))\n",
    "model.add(Dropout(0.25))\n",
    " \n",
    "model.add(Flatten())\n",
    "    \n",
    "model.add(Dense(units = 128, activation='relu'))\n",
    "model.add(Dropout(0.25))\n",
    "    \n",
    "model.add(Dense(units = 1, activation='sigmoid'))\n",
    "     \n",
    "model.compile(optimizer = 'adam', loss = 'binary_crossentropy', metrics = ['accuracy'])"
   ]
  },
  {
   "cell_type": "code",
   "execution_count": 10,
   "metadata": {},
   "outputs": [
    {
     "name": "stdout",
     "output_type": "stream",
     "text": [
      "Found 140 images belonging to 2 classes.\n",
      "Found 9 images belonging to 2 classes.\n"
     ]
    }
   ],
   "source": [
    "from keras.preprocessing.image import ImageDataGenerator\n",
    "\n",
    "train_datagen = ImageDataGenerator(rescale = 1./255,\n",
    "                                   shear_range = 0.2,\n",
    "                                   zoom_range = 0.2,\n",
    "                                   horizontal_flip = True)\n",
    "\n",
    "test_datagen = ImageDataGenerator(rescale = 1./255)\n",
    "\n",
    "training_set = train_datagen.flow_from_directory('/floyd/input/pascal_b/Training',\n",
    "                                                 target_size = (64, 64),\n",
    "                                                 batch_size = 14,\n",
    "                                                 class_mode = 'binary')\n",
    "\n",
    "test_set = test_datagen.flow_from_directory('/floyd/input/pascal_b/Test',\n",
    "                                            target_size = (64, 64),\n",
    "                                            batch_size = 16,\n",
    "                                            class_mode = 'binary')"
   ]
  },
  {
   "cell_type": "code",
   "execution_count": 11,
   "metadata": {},
   "outputs": [
    {
     "name": "stdout",
     "output_type": "stream",
     "text": [
      "Epoch 1/50\n",
      "10/10 [==============================] - 4s 429ms/step - loss: 0.7143 - acc: 0.5071\n",
      "Epoch 2/50\n",
      "10/10 [==============================] - 4s 370ms/step - loss: 0.6851 - acc: 0.6000\n",
      "Epoch 3/50\n",
      "10/10 [==============================] - 4s 354ms/step - loss: 0.6835 - acc: 0.5643\n",
      "Epoch 4/50\n",
      "10/10 [==============================] - 4s 371ms/step - loss: 0.6845 - acc: 0.5929\n",
      "Epoch 5/50\n",
      "10/10 [==============================] - 4s 404ms/step - loss: 0.6612 - acc: 0.5643\n",
      "Epoch 6/50\n",
      "10/10 [==============================] - 5s 471ms/step - loss: 0.6302 - acc: 0.6500\n",
      "Epoch 7/50\n",
      "10/10 [==============================] - 4s 370ms/step - loss: 0.5846 - acc: 0.6929\n",
      "Epoch 8/50\n",
      "10/10 [==============================] - 5s 461ms/step - loss: 0.6128 - acc: 0.7071\n",
      "Epoch 9/50\n",
      "10/10 [==============================] - 5s 454ms/step - loss: 0.6068 - acc: 0.7000\n",
      "Epoch 10/50\n",
      "10/10 [==============================] - 5s 466ms/step - loss: 0.5571 - acc: 0.7214\n",
      "Epoch 11/50\n",
      "10/10 [==============================] - 5s 465ms/step - loss: 0.5250 - acc: 0.7643\n",
      "Epoch 12/50\n",
      "10/10 [==============================] - 5s 474ms/step - loss: 0.4968 - acc: 0.7357\n",
      "Epoch 13/50\n",
      "10/10 [==============================] - 5s 479ms/step - loss: 0.4777 - acc: 0.7500\n",
      "Epoch 14/50\n",
      "10/10 [==============================] - 5s 544ms/step - loss: 0.4282 - acc: 0.8000\n",
      "Epoch 15/50\n",
      "10/10 [==============================] - 5s 510ms/step - loss: 0.4254 - acc: 0.7929\n",
      "Epoch 16/50\n",
      "10/10 [==============================] - 5s 478ms/step - loss: 0.4377 - acc: 0.8286\n",
      "Epoch 17/50\n",
      "10/10 [==============================] - 5s 494ms/step - loss: 0.4065 - acc: 0.8500\n",
      "Epoch 18/50\n",
      "10/10 [==============================] - 5s 455ms/step - loss: 0.3675 - acc: 0.8500\n",
      "Epoch 19/50\n",
      "10/10 [==============================] - 5s 472ms/step - loss: 0.3635 - acc: 0.8214\n",
      "Epoch 20/50\n",
      "10/10 [==============================] - 4s 410ms/step - loss: 0.3662 - acc: 0.8714\n",
      "Epoch 21/50\n",
      "10/10 [==============================] - 4s 374ms/step - loss: 0.4179 - acc: 0.8214\n",
      "Epoch 22/50\n",
      "10/10 [==============================] - 5s 456ms/step - loss: 0.3840 - acc: 0.8357\n",
      "Epoch 23/50\n",
      "10/10 [==============================] - 4s 419ms/step - loss: 0.3656 - acc: 0.8429\n",
      "Epoch 24/50\n",
      "10/10 [==============================] - 4s 380ms/step - loss: 0.3698 - acc: 0.8357\n",
      "Epoch 25/50\n",
      "10/10 [==============================] - 4s 387ms/step - loss: 0.3674 - acc: 0.8286\n",
      "Epoch 26/50\n",
      "10/10 [==============================] - 4s 358ms/step - loss: 0.3312 - acc: 0.8643\n",
      "Epoch 27/50\n",
      "10/10 [==============================] - 4s 374ms/step - loss: 0.3406 - acc: 0.8429\n",
      "Epoch 28/50\n",
      "10/10 [==============================] - 4s 375ms/step - loss: 0.3079 - acc: 0.8786\n",
      "Epoch 29/50\n",
      "10/10 [==============================] - 4s 379ms/step - loss: 0.3187 - acc: 0.8786\n",
      "Epoch 30/50\n",
      "10/10 [==============================] - 4s 380ms/step - loss: 0.2744 - acc: 0.8643\n",
      "Epoch 31/50\n",
      "10/10 [==============================] - 5s 452ms/step - loss: 0.3088 - acc: 0.8571\n",
      "Epoch 32/50\n",
      "10/10 [==============================] - 4s 415ms/step - loss: 0.2757 - acc: 0.9071\n",
      "Epoch 33/50\n",
      "10/10 [==============================] - 4s 368ms/step - loss: 0.2437 - acc: 0.9000\n",
      "Epoch 34/50\n",
      "10/10 [==============================] - 4s 366ms/step - loss: 0.2428 - acc: 0.8857\n",
      "Epoch 35/50\n",
      "10/10 [==============================] - 4s 365ms/step - loss: 0.2680 - acc: 0.8857\n",
      "Epoch 36/50\n",
      "10/10 [==============================] - 4s 359ms/step - loss: 0.2720 - acc: 0.8857\n",
      "Epoch 37/50\n",
      "10/10 [==============================] - 4s 387ms/step - loss: 0.3006 - acc: 0.8714\n",
      "Epoch 38/50\n",
      "10/10 [==============================] - 4s 376ms/step - loss: 0.2582 - acc: 0.9000\n",
      "Epoch 39/50\n",
      "10/10 [==============================] - 4s 435ms/step - loss: 0.2548 - acc: 0.9143\n",
      "Epoch 40/50\n",
      "10/10 [==============================] - 4s 435ms/step - loss: 0.2359 - acc: 0.8929\n",
      "Epoch 41/50\n",
      "10/10 [==============================] - 4s 364ms/step - loss: 0.2445 - acc: 0.8857\n",
      "Epoch 42/50\n",
      "10/10 [==============================] - 4s 388ms/step - loss: 0.3168 - acc: 0.8643\n",
      "Epoch 43/50\n",
      "10/10 [==============================] - 4s 387ms/step - loss: 0.3314 - acc: 0.8714\n",
      "Epoch 44/50\n",
      "10/10 [==============================] - 4s 366ms/step - loss: 0.2147 - acc: 0.9286\n",
      "Epoch 45/50\n",
      "10/10 [==============================] - 4s 360ms/step - loss: 0.2179 - acc: 0.9214\n",
      "Epoch 46/50\n",
      "10/10 [==============================] - 5s 474ms/step - loss: 0.2360 - acc: 0.8929\n",
      "Epoch 47/50\n",
      "10/10 [==============================] - 5s 544ms/step - loss: 0.2110 - acc: 0.9286\n",
      "Epoch 48/50\n",
      "10/10 [==============================] - 6s 554ms/step - loss: 0.2372 - acc: 0.8857\n",
      "Epoch 49/50\n",
      "10/10 [==============================] - 6s 631ms/step - loss: 0.2895 - acc: 0.8643\n",
      "Epoch 50/50\n",
      "10/10 [==============================] - 6s 569ms/step - loss: 0.1840 - acc: 0.9429\n"
     ]
    },
    {
     "data": {
      "text/plain": [
       "<keras.callbacks.History at 0x7f403c4cacf8>"
      ]
     },
     "execution_count": 11,
     "metadata": {},
     "output_type": "execute_result"
    }
   ],
   "source": [
    "model.fit_generator(training_set,\n",
    "                         steps_per_epoch = 10,\n",
    "                         epochs = 50)"
   ]
  },
  {
   "cell_type": "code",
   "execution_count": 12,
   "metadata": {},
   "outputs": [],
   "source": [
    "model.save('PASCALBGoodSpects.h5')"
   ]
  },
  {
   "cell_type": "code",
   "execution_count": 13,
   "metadata": {},
   "outputs": [],
   "source": [
    "#from keras.models import load_model\n",
    "#model = load_model('PASCALBGoodSpects.h5')"
   ]
  },
  {
   "cell_type": "code",
   "execution_count": 22,
   "metadata": {},
   "outputs": [
    {
     "name": "stdout",
     "output_type": "stream",
     "text": [
      "[[1.]]\n",
      "Normal\n"
     ]
    }
   ],
   "source": [
    "from keras.preprocessing import image\n",
    "import numpy as np\n",
    "\n",
    "test_image = image.load_img('/floyd/input/pascal_b/Test/Normal/65.png', target_size = (64, 64))\n",
    "test_image = image.img_to_array(test_image)\n",
    "test_image = np.expand_dims(test_image, axis = 0)\n",
    "\n",
    "result  = model.predict(test_image)\n",
    "print(result)\n",
    "res=1\n",
    "if result<0.5:\n",
    "    res=0\n",
    "# res = np.argmax(result)\n",
    "print(tc[res])\n",
    "\n"
   ]
  },
  {
   "cell_type": "code",
   "execution_count": null,
   "metadata": {},
   "outputs": [],
   "source": []
  }
 ],
 "metadata": {
  "kernelspec": {
   "display_name": "Python 3",
   "language": "python",
   "name": "python3"
  },
  "language_info": {
   "codemirror_mode": {
    "name": "ipython",
    "version": 3
   },
   "file_extension": ".py",
   "mimetype": "text/x-python",
   "name": "python",
   "nbconvert_exporter": "python",
   "pygments_lexer": "ipython3",
   "version": "3.6.5"
  }
 },
 "nbformat": 4,
 "nbformat_minor": 2
}
